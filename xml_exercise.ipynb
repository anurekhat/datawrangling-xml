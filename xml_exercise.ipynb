{
 "cells": [
  {
   "cell_type": "markdown",
   "metadata": {},
   "source": [
    "****\n",
    "## XML exercise\n",
    "\n",
    "Using data in 'data/mondial_database.xml', the examples above, and refering to https://docs.python.org/2.7/library/xml.etree.elementtree.html, find\n",
    "\n",
    "1. 10 countries with the lowest infant mortality rates\n",
    "2. 10 cities with the largest population\n",
    "3. 10 ethnic groups with the largest overall populations (sum of best/latest estimates over all countries)\n",
    "4. name and country of a) longest river, b) largest lake and c) airport at highest elevation"
   ]
  },
  {
   "cell_type": "code",
   "execution_count": 162,
   "metadata": {
    "collapsed": true
   },
   "outputs": [],
   "source": [
    "from lxml import etree as ET\n",
    "#import xml.etree.ElementTree as ET\n",
    "import pandas as pd\n",
    "import numpy as np"
   ]
  },
  {
   "cell_type": "code",
   "execution_count": 163,
   "metadata": {
    "collapsed": true
   },
   "outputs": [],
   "source": [
    "doc = ET.parse('data/mondial_database.xml')"
   ]
  },
  {
   "cell_type": "code",
   "execution_count": 177,
   "metadata": {
    "collapsed": false
   },
   "outputs": [],
   "source": [
    "#ET.dump(doc.getroot())"
   ]
  },
  {
   "cell_type": "markdown",
   "metadata": {},
   "source": [
    "### 10 countries with the lowest infant mortality rates\n",
    "\n",
    "The approach is to get all the infant mortality rate elements of 'country' parent into a dataframe. "
   ]
  },
  {
   "cell_type": "code",
   "execution_count": 165,
   "metadata": {
    "collapsed": false
   },
   "outputs": [
    {
     "data": {
      "text/html": [
       "<div>\n",
       "<table border=\"1\" class=\"dataframe\">\n",
       "  <thead>\n",
       "    <tr style=\"text-align: right;\">\n",
       "      <th></th>\n",
       "      <th>Infant_Mortality</th>\n",
       "      <th>name</th>\n",
       "    </tr>\n",
       "  </thead>\n",
       "  <tbody>\n",
       "    <tr>\n",
       "      <th>38</th>\n",
       "      <td>1.81</td>\n",
       "      <td>Monaco</td>\n",
       "    </tr>\n",
       "    <tr>\n",
       "      <th>30</th>\n",
       "      <td>10.16</td>\n",
       "      <td>Romania</td>\n",
       "    </tr>\n",
       "    <tr>\n",
       "      <th>153</th>\n",
       "      <td>10.2</td>\n",
       "      <td>Fiji</td>\n",
       "    </tr>\n",
       "    <tr>\n",
       "      <th>69</th>\n",
       "      <td>10.48</td>\n",
       "      <td>Brunei</td>\n",
       "    </tr>\n",
       "    <tr>\n",
       "      <th>132</th>\n",
       "      <td>10.5</td>\n",
       "      <td>Grenada</td>\n",
       "    </tr>\n",
       "    <tr>\n",
       "      <th>237</th>\n",
       "      <td>10.59</td>\n",
       "      <td>Mauritius</td>\n",
       "    </tr>\n",
       "    <tr>\n",
       "      <th>124</th>\n",
       "      <td>10.7</td>\n",
       "      <td>Panama</td>\n",
       "    </tr>\n",
       "    <tr>\n",
       "      <th>243</th>\n",
       "      <td>10.77</td>\n",
       "      <td>Seychelles</td>\n",
       "    </tr>\n",
       "    <tr>\n",
       "      <th>102</th>\n",
       "      <td>10.92</td>\n",
       "      <td>United Arab Emirates</td>\n",
       "    </tr>\n",
       "    <tr>\n",
       "      <th>113</th>\n",
       "      <td>10.93</td>\n",
       "      <td>Barbados</td>\n",
       "    </tr>\n",
       "  </tbody>\n",
       "</table>\n",
       "</div>"
      ],
      "text/plain": [
       "    Infant_Mortality                  name\n",
       "38              1.81                Monaco\n",
       "30             10.16               Romania\n",
       "153             10.2                  Fiji\n",
       "69             10.48                Brunei\n",
       "132             10.5               Grenada\n",
       "237            10.59             Mauritius\n",
       "124             10.7                Panama\n",
       "243            10.77            Seychelles\n",
       "102            10.92  United Arab Emirates\n",
       "113            10.93              Barbados"
      ]
     },
     "execution_count": 165,
     "metadata": {},
     "output_type": "execute_result"
    }
   ],
   "source": [
    "root = doc.getroot()\n",
    "names = []\n",
    "rates = []\n",
    "for country in root.findall('country') :\n",
    "    names.append(country.find('name').text)\n",
    "    im = country.find('infant_mortality')\n",
    "    if (im == None) :\n",
    "        rates.append(np.nan)\n",
    "    else :\n",
    "        rates.append(country.find('infant_mortality').text)\n",
    "c_m = pd.DataFrame({ 'name' : names, 'Infant_Mortality' : rates})\n",
    "c_m.sort_values(by='Infant_Mortality').head(10)"
   ]
  },
  {
   "cell_type": "markdown",
   "metadata": {},
   "source": [
    "#### Utility function to get latest population"
   ]
  },
  {
   "cell_type": "code",
   "execution_count": 166,
   "metadata": {
    "collapsed": false
   },
   "outputs": [],
   "source": [
    "# A utility function which will return child 'population' element with the latest population info.\n",
    "def find_latest_pop(parent) :\n",
    "    pop_years = []\n",
    "    for pop in parent.findall('population') :\n",
    "        pop_years.append(int(pop.get('year')))\n",
    "    if(len(pop_years) > 0 ) :\n",
    "        max_yr = max(pop_years)\n",
    "        pop_element = parent.find(\"./population[@year='%s']\" % max_yr)\n",
    "    else :\n",
    "        pop_element = None\n",
    "    return pop_element\n"
   ]
  },
  {
   "cell_type": "code",
   "execution_count": 167,
   "metadata": {
    "collapsed": false
   },
   "outputs": [
    {
     "name": "stdout",
     "output_type": "stream",
     "text": [
      "<population year=\"2011\" measured=\"census\">418495</population>\n",
      "      \n"
     ]
    }
   ],
   "source": [
    "# Testing the function for city population\n",
    "ET.dump(find_latest_pop(root.find(\".//city[@id='cty-Albania-Tirane']\")))\n"
   ]
  },
  {
   "cell_type": "code",
   "execution_count": 168,
   "metadata": {
    "collapsed": false
   },
   "outputs": [
    {
     "name": "stdout",
     "output_type": "stream",
     "text": [
      "<population year=\"2011\" measured=\"census\">2800138</population>\n",
      "      \n"
     ]
    }
   ],
   "source": [
    "# Testing the function for country population\n",
    "ET.dump(find_latest_pop(root.find(\"./country[name='Albania']\")))"
   ]
  },
  {
   "cell_type": "markdown",
   "metadata": {},
   "source": [
    "### 10 cities with the largest population\n",
    "\n",
    "The approach is to get all city elements in the entire Tree into a dataframe. Some 'city' elements have a 'province' parent and some have 'country' parent. I'm also including the respective country or province name for the cities in the dataframe."
   ]
  },
  {
   "cell_type": "code",
   "execution_count": 169,
   "metadata": {
    "collapsed": false
   },
   "outputs": [
    {
     "data": {
      "text/html": [
       "<div>\n",
       "<table border=\"1\" class=\"dataframe\">\n",
       "  <thead>\n",
       "    <tr style=\"text-align: right;\">\n",
       "      <th></th>\n",
       "      <th>Country</th>\n",
       "      <th>Name</th>\n",
       "      <th>Population</th>\n",
       "      <th>Province</th>\n",
       "    </tr>\n",
       "  </thead>\n",
       "  <tbody>\n",
       "    <tr>\n",
       "      <th>1341</th>\n",
       "      <td>CN</td>\n",
       "      <td>Shanghai</td>\n",
       "      <td>22315474.0</td>\n",
       "      <td>Shanghai</td>\n",
       "    </tr>\n",
       "    <tr>\n",
       "      <th>771</th>\n",
       "      <td>TR</td>\n",
       "      <td>Istanbul</td>\n",
       "      <td>13710512.0</td>\n",
       "      <td>İstanbul</td>\n",
       "    </tr>\n",
       "    <tr>\n",
       "      <th>1527</th>\n",
       "      <td>IND</td>\n",
       "      <td>Mumbai</td>\n",
       "      <td>12442373.0</td>\n",
       "      <td>Maharashtra</td>\n",
       "    </tr>\n",
       "    <tr>\n",
       "      <th>479</th>\n",
       "      <td>R</td>\n",
       "      <td>Moskva</td>\n",
       "      <td>11979529.0</td>\n",
       "      <td>Moscow</td>\n",
       "    </tr>\n",
       "    <tr>\n",
       "      <th>1340</th>\n",
       "      <td>CN</td>\n",
       "      <td>Beijing</td>\n",
       "      <td>11716620.0</td>\n",
       "      <td>Beijing</td>\n",
       "    </tr>\n",
       "    <tr>\n",
       "      <th>2810</th>\n",
       "      <td>BR</td>\n",
       "      <td>São Paulo</td>\n",
       "      <td>11152344.0</td>\n",
       "      <td>São Paulo</td>\n",
       "    </tr>\n",
       "    <tr>\n",
       "      <th>1342</th>\n",
       "      <td>CN</td>\n",
       "      <td>Tianjin</td>\n",
       "      <td>11090314.0</td>\n",
       "      <td>Tianjin</td>\n",
       "    </tr>\n",
       "    <tr>\n",
       "      <th>1064</th>\n",
       "      <td>CN</td>\n",
       "      <td>Guangzhou</td>\n",
       "      <td>11071424.0</td>\n",
       "      <td>Guangdong</td>\n",
       "    </tr>\n",
       "    <tr>\n",
       "      <th>1582</th>\n",
       "      <td>IND</td>\n",
       "      <td>Delhi</td>\n",
       "      <td>11034555.0</td>\n",
       "      <td>Delhi</td>\n",
       "    </tr>\n",
       "    <tr>\n",
       "      <th>1067</th>\n",
       "      <td>CN</td>\n",
       "      <td>Shenzhen</td>\n",
       "      <td>10358381.0</td>\n",
       "      <td>Guangdong</td>\n",
       "    </tr>\n",
       "  </tbody>\n",
       "</table>\n",
       "</div>"
      ],
      "text/plain": [
       "     Country       Name  Population     Province\n",
       "1341      CN   Shanghai  22315474.0     Shanghai\n",
       "771       TR   Istanbul  13710512.0     İstanbul\n",
       "1527     IND     Mumbai  12442373.0  Maharashtra\n",
       "479        R     Moskva  11979529.0       Moscow\n",
       "1340      CN    Beijing  11716620.0      Beijing\n",
       "2810      BR  São Paulo  11152344.0    São Paulo\n",
       "1342      CN    Tianjin  11090314.0      Tianjin\n",
       "1064      CN  Guangzhou  11071424.0    Guangdong\n",
       "1582     IND      Delhi  11034555.0        Delhi\n",
       "1067      CN   Shenzhen  10358381.0    Guangdong"
      ]
     },
     "execution_count": 169,
     "metadata": {},
     "output_type": "execute_result"
    }
   ],
   "source": [
    "root = doc.getroot()\n",
    "city_names = []\n",
    "city_pops = []\n",
    "city_cntrs = []\n",
    "city_prvncs = []\n",
    "for city in root.findall('.//city'):\n",
    "    city_names.append(city.find('name').text)\n",
    "    latest_pop = find_latest_pop(city)\n",
    "    if (latest_pop == None) : # No population info\n",
    "        city_pops.append(np.nan)\n",
    "    else : \n",
    "        city_pops.append(int(latest_pop.text))\n",
    "    if(city.get('province') == None) : # city's parent is country - no provinces\n",
    "        city_cntrs.append(city.getparent().find('name').text)\n",
    "        city_prvncs.append('')\n",
    "    else : # get country code from the attribute in city element. Get province name from parent element\n",
    "        city_cntrs.append(city.get('country'))\n",
    "        city_prvncs.append(city.getparent().find('name').text)\n",
    "\n",
    "cities = pd.DataFrame({ 'Name': city_names, 'Population': city_pops, 'Province':city_prvncs, 'Country':city_cntrs})\n",
    "cities.sort_values(by='Population', ascending=False).head(10)\n"
   ]
  },
  {
   "cell_type": "markdown",
   "metadata": {},
   "source": [
    "### 10 ethnic groups with the largest overall populations (sum of best/latest estimates over all countries)\n",
    "\n",
    "Create a dataframe with all ethnic group entries across countries. Get the % value of the country population represented by the ethnic group. Also get country's latest population"
   ]
  },
  {
   "cell_type": "code",
   "execution_count": 170,
   "metadata": {
    "collapsed": false
   },
   "outputs": [
    {
     "data": {
      "text/html": [
       "<div>\n",
       "<table border=\"1\" class=\"dataframe\">\n",
       "  <thead>\n",
       "    <tr style=\"text-align: right;\">\n",
       "      <th></th>\n",
       "      <th>Ethnic_Population</th>\n",
       "    </tr>\n",
       "    <tr>\n",
       "      <th>Ethnic_Group</th>\n",
       "      <th></th>\n",
       "    </tr>\n",
       "  </thead>\n",
       "  <tbody>\n",
       "    <tr>\n",
       "      <th>Han Chinese</th>\n",
       "      <td>1.245059e+09</td>\n",
       "    </tr>\n",
       "    <tr>\n",
       "      <th>Indo-Aryan</th>\n",
       "      <td>8.718156e+08</td>\n",
       "    </tr>\n",
       "    <tr>\n",
       "      <th>European</th>\n",
       "      <td>4.948722e+08</td>\n",
       "    </tr>\n",
       "    <tr>\n",
       "      <th>African</th>\n",
       "      <td>3.183251e+08</td>\n",
       "    </tr>\n",
       "    <tr>\n",
       "      <th>Dravidian</th>\n",
       "      <td>3.027137e+08</td>\n",
       "    </tr>\n",
       "    <tr>\n",
       "      <th>Mestizo</th>\n",
       "      <td>1.577344e+08</td>\n",
       "    </tr>\n",
       "    <tr>\n",
       "      <th>Bengali</th>\n",
       "      <td>1.467769e+08</td>\n",
       "    </tr>\n",
       "    <tr>\n",
       "      <th>Russian</th>\n",
       "      <td>1.318570e+08</td>\n",
       "    </tr>\n",
       "    <tr>\n",
       "      <th>Japanese</th>\n",
       "      <td>1.265342e+08</td>\n",
       "    </tr>\n",
       "    <tr>\n",
       "      <th>Malay</th>\n",
       "      <td>1.219936e+08</td>\n",
       "    </tr>\n",
       "  </tbody>\n",
       "</table>\n",
       "</div>"
      ],
      "text/plain": [
       "              Ethnic_Population\n",
       "Ethnic_Group                   \n",
       "Han Chinese        1.245059e+09\n",
       "Indo-Aryan         8.718156e+08\n",
       "European           4.948722e+08\n",
       "African            3.183251e+08\n",
       "Dravidian          3.027137e+08\n",
       "Mestizo            1.577344e+08\n",
       "Bengali            1.467769e+08\n",
       "Russian            1.318570e+08\n",
       "Japanese           1.265342e+08\n",
       "Malay              1.219936e+08"
      ]
     },
     "execution_count": 170,
     "metadata": {},
     "output_type": "execute_result"
    }
   ],
   "source": [
    "root = doc.getroot()\n",
    "eg_names =[]\n",
    "eg_pcnt = []\n",
    "cntry_names = []\n",
    "cntry_pops = []\n",
    "for eg in root.findall(\".//ethnicgroup\") :\n",
    "    eg_names.append(eg.text)\n",
    "    eg_pcnt.append(float(eg.get('percentage')))\n",
    "    cntry_names.append(eg.getparent().find('name').text)\n",
    "    pop = find_latest_pop(eg.getparent())\n",
    "    if (pop == None) : # No population info\n",
    "        cntry_pops = np.nan\n",
    "    else :\n",
    "        cntry_pops.append(float(pop.text))\n",
    "egs = pd.DataFrame({'Ethnic_Group':eg_names, 'Population_Percentage' : eg_pcnt, 'Country':cntry_names, 'Country_Population': cntry_pops})\n",
    "# Calculate ethnic population from country population and ethnic group percentage\n",
    "egs['Ethnic_Population']= egs.apply(lambda row: 0.01 * row['Country_Population'] * row['Population_Percentage' ], axis = 1)\n",
    "# Group by ethnic group and find total ethnic population across countries\n",
    "egs.groupby('Ethnic_Group').sum()[['Ethnic_Population']].sort_values(by= 'Ethnic_Population', ascending = False).head(10)\n"
   ]
  },
  {
   "cell_type": "markdown",
   "metadata": {},
   "source": [
    "### name and country of a) longest river, b) largest lake and c) airport at highest elevation\n",
    "\n",
    "First view the structure of the xml elements for river, lake and airport. Then create appropriate data frames to query"
   ]
  },
  {
   "cell_type": "code",
   "execution_count": 171,
   "metadata": {
    "collapsed": false
   },
   "outputs": [
    {
     "name": "stdout",
     "output_type": "stream",
     "text": [
      "<river id=\"river-Thjorsa\" country=\"IS\">\n",
      "      <name>Thjorsa</name>\n",
      "      <to watertype=\"sea\" water=\"sea-Atlantic\"/>\n",
      "      <area>7530</area>\n",
      "      <length>230</length>\n",
      "      <source country=\"IS\">\n",
      "         <latitude>65</latitude>\n",
      "         <longitude>-18</longitude>\n",
      "      </source>\n",
      "      <estuary country=\"IS\">\n",
      "         <latitude>63.9</latitude>\n",
      "         <longitude>-20.8</longitude>\n",
      "      </estuary>\n",
      "   </river>\n",
      "   \n"
     ]
    }
   ],
   "source": [
    "ET.dump(root.find('.//river'))\n"
   ]
  },
  {
   "cell_type": "code",
   "execution_count": 172,
   "metadata": {
    "collapsed": false
   },
   "outputs": [
    {
     "name": "stdout",
     "output_type": "stream",
     "text": [
      "<lake id=\"lake-Inarisee\" country=\"SF\">\n",
      "      <name>Inari</name>\n",
      "      <located country=\"SF\" province=\"lteil-LAP-SF\"/>\n",
      "      <to watertype=\"river\" water=\"river-Paatsjoki\"/>\n",
      "      <area>1040</area>\n",
      "      <latitude>68.95</latitude>\n",
      "      <longitude>27.7</longitude>\n",
      "      <elevation>119</elevation>\n",
      "      <depth>92</depth>\n",
      "   </lake>\n",
      "   \n"
     ]
    }
   ],
   "source": [
    "ET.dump(root.find('.//lake'))\n"
   ]
  },
  {
   "cell_type": "code",
   "execution_count": 173,
   "metadata": {
    "collapsed": false
   },
   "outputs": [
    {
     "name": "stdout",
     "output_type": "stream",
     "text": [
      "<airport iatacode=\"HEA\" city=\"cty-Afghanistan-2\" country=\"AFG\">\n",
      "      <name>Herat</name>\n",
      "      <latitude>34.210017</latitude>\n",
      "      <longitude>62.2283</longitude>\n",
      "      <elevation>977</elevation>\n",
      "      <gmtOffset>5</gmtOffset>\n",
      "   </airport>\n",
      "   \n"
     ]
    }
   ],
   "source": [
    "ET.dump(root.find('.//airport'))\n"
   ]
  },
  {
   "cell_type": "markdown",
   "metadata": {},
   "source": [
    "#### Longest River"
   ]
  },
  {
   "cell_type": "code",
   "execution_count": 174,
   "metadata": {
    "collapsed": false
   },
   "outputs": [
    {
     "data": {
      "text/html": [
       "<div>\n",
       "<table border=\"1\" class=\"dataframe\">\n",
       "  <thead>\n",
       "    <tr style=\"text-align: right;\">\n",
       "      <th></th>\n",
       "      <th>Country</th>\n",
       "      <th>River_Length</th>\n",
       "      <th>River_Name</th>\n",
       "    </tr>\n",
       "  </thead>\n",
       "  <tbody>\n",
       "    <tr>\n",
       "      <th>174</th>\n",
       "      <td>CO BR PE</td>\n",
       "      <td>6448.0</td>\n",
       "      <td>Amazonas</td>\n",
       "    </tr>\n",
       "  </tbody>\n",
       "</table>\n",
       "</div>"
      ],
      "text/plain": [
       "      Country  River_Length River_Name\n",
       "174  CO BR PE        6448.0   Amazonas"
      ]
     },
     "execution_count": 174,
     "metadata": {},
     "output_type": "execute_result"
    }
   ],
   "source": [
    "root = doc.getroot()\n",
    "cntry_names = []\n",
    "river_names =[]\n",
    "river_len = []\n",
    "for river in root.findall('.//river') :\n",
    "    cntry_names.append(river.get('country'))\n",
    "    river_names.append(river.find('name').text)\n",
    "    length = river.find('length')\n",
    "    if (length == None) :\n",
    "        river_len.append(np.nan)\n",
    "    else :\n",
    "        river_len.append(float(length.text))\n",
    "rivers = pd.DataFrame({'Country': cntry_names, 'River_Name' : river_names, 'River_Length': river_len})\n",
    "rivers.sort_values(by = 'River_Length', ascending=False).head(1)"
   ]
  },
  {
   "cell_type": "markdown",
   "metadata": {},
   "source": [
    "#### Largest Lake"
   ]
  },
  {
   "cell_type": "code",
   "execution_count": 175,
   "metadata": {
    "collapsed": false
   },
   "outputs": [
    {
     "data": {
      "text/html": [
       "<div>\n",
       "<table border=\"1\" class=\"dataframe\">\n",
       "  <thead>\n",
       "    <tr style=\"text-align: right;\">\n",
       "      <th></th>\n",
       "      <th>Country</th>\n",
       "      <th>Lake_Area</th>\n",
       "      <th>Lake_Name</th>\n",
       "    </tr>\n",
       "  </thead>\n",
       "  <tbody>\n",
       "    <tr>\n",
       "      <th>54</th>\n",
       "      <td>R AZ KAZ IR TM</td>\n",
       "      <td>386400.0</td>\n",
       "      <td>Caspian Sea</td>\n",
       "    </tr>\n",
       "  </tbody>\n",
       "</table>\n",
       "</div>"
      ],
      "text/plain": [
       "           Country  Lake_Area    Lake_Name\n",
       "54  R AZ KAZ IR TM   386400.0  Caspian Sea"
      ]
     },
     "execution_count": 175,
     "metadata": {},
     "output_type": "execute_result"
    }
   ],
   "source": [
    "root = doc.getroot()\n",
    "cntry_names = []\n",
    "lake_names =[]\n",
    "lake_area = []\n",
    "for lake in root.findall('.//lake') :\n",
    "    cntry_names.append(lake.get('country'))\n",
    "    lake_names.append(lake.find('name').text)\n",
    "    length = lake.find('area')\n",
    "    if (length == None) :\n",
    "       lake_area.append(np.nan)\n",
    "    else :\n",
    "        lake_area.append(float(length.text))\n",
    "lakes = pd.DataFrame({'Country': cntry_names, 'Lake_Name' : lake_names, 'Lake_Area': lake_area})\n",
    "lakes.sort_values(by = 'Lake_Area', ascending=False).head(1)"
   ]
  },
  {
   "cell_type": "markdown",
   "metadata": {},
   "source": [
    "#### Airport at highest elevation"
   ]
  },
  {
   "cell_type": "code",
   "execution_count": 176,
   "metadata": {
    "collapsed": false
   },
   "outputs": [
    {
     "data": {
      "text/html": [
       "<div>\n",
       "<table border=\"1\" class=\"dataframe\">\n",
       "  <thead>\n",
       "    <tr style=\"text-align: right;\">\n",
       "      <th></th>\n",
       "      <th>Airport_Elevation</th>\n",
       "      <th>Airport_Name</th>\n",
       "      <th>Country</th>\n",
       "    </tr>\n",
       "  </thead>\n",
       "  <tbody>\n",
       "    <tr>\n",
       "      <th>80</th>\n",
       "      <td>4063.0</td>\n",
       "      <td>El Alto Intl</td>\n",
       "      <td>BOL</td>\n",
       "    </tr>\n",
       "  </tbody>\n",
       "</table>\n",
       "</div>"
      ],
      "text/plain": [
       "    Airport_Elevation  Airport_Name Country\n",
       "80             4063.0  El Alto Intl     BOL"
      ]
     },
     "execution_count": 176,
     "metadata": {},
     "output_type": "execute_result"
    }
   ],
   "source": [
    "root = doc.getroot()\n",
    "cntry_names = []\n",
    "aprt_names =[]\n",
    "aprt_elev = []\n",
    "for aprt in root.findall('.//airport') :\n",
    "    cntry_names.append(aprt.get('country'))\n",
    "    aprt_names.append(aprt.find('name').text)\n",
    "    length = aprt.find('elevation')\n",
    "    if ((length == None) | (length.text == None)) :\n",
    "       aprt_elev.append(np.nan)\n",
    "    else :\n",
    "        aprt_elev.append(float(length.text))\n",
    "lakes = pd.DataFrame({'Country': cntry_names, 'Airport_Name' : aprt_names, 'Airport_Elevation': aprt_elev})\n",
    "lakes.sort_values(by = 'Airport_Elevation', ascending=False).head(1)"
   ]
  }
 ],
 "metadata": {
  "kernelspec": {
   "display_name": "Python 3",
   "language": "python",
   "name": "python3"
  },
  "language_info": {
   "codemirror_mode": {
    "name": "ipython",
    "version": 3
   },
   "file_extension": ".py",
   "mimetype": "text/x-python",
   "name": "python",
   "nbconvert_exporter": "python",
   "pygments_lexer": "ipython3",
   "version": "3.6.0"
  }
 },
 "nbformat": 4,
 "nbformat_minor": 2
}
